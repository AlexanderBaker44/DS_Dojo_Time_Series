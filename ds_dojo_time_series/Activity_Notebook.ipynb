{
 "cells": [
  {
   "cell_type": "code",
   "execution_count": 1,
   "id": "7b597d82",
   "metadata": {},
   "outputs": [],
   "source": [
    "import pandas as pd\n",
    "import matplotlib.pyplot as plt\n",
    "from statsmodels.tsa.stattools import adfuller\n",
    "from statsmodels.graphics.tsaplots import plot_acf\n",
    "from statsmodels.graphics.tsaplots import plot_pacf\n",
    "import matplotlib.pyplot as plt\n",
    "from statsmodels.tsa.arima.model import ARIMA\n",
    "from statsmodels.tsa.arima.model import ARIMAResults\n",
    "from statsmodels.tsa.statespace.sarimax import SARIMAX\n",
    "from sklearn.metrics import mean_squared_error\n",
    "from statsmodels.tsa.seasonal import seasonal_decompose\n",
    "import pmdarima as pm\n",
    "from pmdarima import model_selection\n",
    "import pickle as pkl"
   ]
  },
  {
   "cell_type": "markdown",
   "id": "f9040918",
   "metadata": {},
   "source": [
    "Let's start by reading in the data"
   ]
  },
  {
   "cell_type": "code",
   "execution_count": null,
   "id": "6a10eba3",
   "metadata": {},
   "outputs": [],
   "source": [
    "#read in set\n",
    "df = pd.read_csv()"
   ]
  },
  {
   "cell_type": "markdown",
   "id": "50f57229",
   "metadata": {},
   "source": [
    "Now change the index to a timestamp"
   ]
  },
  {
   "cell_type": "code",
   "execution_count": null,
   "id": "7ae48724",
   "metadata": {},
   "outputs": [],
   "source": [
    "#change the time to timestamp and reindex\n",
    "df[time_col] = pd.to_datetime(df[time_col])\n",
    "df.set_index(df[time_col],inplace=True)"
   ]
  },
  {
   "cell_type": "markdown",
   "id": "289512a9",
   "metadata": {},
   "source": [
    "Make the first raw time series plot"
   ]
  },
  {
   "cell_type": "code",
   "execution_count": null,
   "id": "70037199",
   "metadata": {},
   "outputs": [],
   "source": [
    "#plot the ra wseries\n",
    "df[metric].plot()"
   ]
  },
  {
   "cell_type": "markdown",
   "id": "8dd40940",
   "metadata": {},
   "source": [
    "Try an additive decompose"
   ]
  },
  {
   "cell_type": "code",
   "execution_count": null,
   "id": "60d92bfb",
   "metadata": {},
   "outputs": [],
   "source": [
    "#decompose additive\n",
    "result = seasonal_decompose(df[metric], model='additive')\n",
    "result.plot()\n",
    "plt.show()"
   ]
  },
  {
   "cell_type": "markdown",
   "id": "8a31a7b9",
   "metadata": {},
   "source": [
    "Try a multiplicative decompose"
   ]
  },
  {
   "cell_type": "code",
   "execution_count": null,
   "id": "4166087b",
   "metadata": {},
   "outputs": [],
   "source": [
    "#decompose multiplicative\n",
    "result = seasonal_decompose(df['#Passengers'], model='multiplicative')\n",
    "result.plot()\n",
    "plt.show()"
   ]
  },
  {
   "cell_type": "markdown",
   "id": "37753cd8",
   "metadata": {},
   "source": [
    "Try testing for stationarity with the ADFuller Test"
   ]
  },
  {
   "cell_type": "code",
   "execution_count": null,
   "id": "d411a34f",
   "metadata": {},
   "outputs": [],
   "source": [
    "#perform adfuller test\n",
    "result = adfuller(df[metric])\n",
    "print(result)"
   ]
  },
  {
   "cell_type": "markdown",
   "id": "56b65929",
   "metadata": {},
   "source": [
    "Try seeing what differentiating does"
   ]
  },
  {
   "cell_type": "code",
   "execution_count": null,
   "id": "147ddf3b",
   "metadata": {},
   "outputs": [],
   "source": [
    "#differentiate the series and plot\n",
    "df['diff_series'] = df[metric].diff()\n",
    "df['diff_series'].plot()"
   ]
  },
  {
   "cell_type": "markdown",
   "id": "df82e438",
   "metadata": {},
   "source": [
    "Let's take a look at the seasonality"
   ]
  },
  {
   "cell_type": "code",
   "execution_count": null,
   "id": "46a4c2ac",
   "metadata": {},
   "outputs": [],
   "source": [
    "#find the trend year by year\n",
    "df['month_num'] = [i.month for i in df['Month']]\n",
    "yearly_trend = df.groupby('month_num').mean()"
   ]
  },
  {
   "cell_type": "markdown",
   "id": "75f34c49",
   "metadata": {},
   "source": [
    "Plot the series"
   ]
  },
  {
   "cell_type": "code",
   "execution_count": null,
   "id": "ddd98050",
   "metadata": {},
   "outputs": [],
   "source": [
    "#plot the yearly averages\n",
    "yearly_trend[metric].plot()"
   ]
  },
  {
   "cell_type": "code",
   "execution_count": null,
   "id": "d054e7fc",
   "metadata": {},
   "outputs": [],
   "source": [
    "#plot the differies yearly trend\n",
    "yearly_trend['diff_series'].plot()"
   ]
  },
  {
   "cell_type": "markdown",
   "id": "240b3603",
   "metadata": {},
   "source": [
    "Now lets try a seasonal difference on the raw and differentiated series"
   ]
  },
  {
   "cell_type": "code",
   "execution_count": null,
   "id": "cdd2aa3e",
   "metadata": {},
   "outputs": [],
   "source": [
    "#perform seasonal diff\n",
    "df['seasonal_diff'] = df[metric].diff(periods = chosen_period)\n",
    "df['seasonal_diff'].plot()"
   ]
  },
  {
   "cell_type": "markdown",
   "id": "cd813ccf",
   "metadata": {},
   "source": [
    "Try an ACF and PACF plot"
   ]
  },
  {
   "cell_type": "code",
   "execution_count": null,
   "id": "9af09d2f",
   "metadata": {},
   "outputs": [],
   "source": [
    "#empty plot\n",
    "fig, axes = plt.subplots(1, 2, figsize=(10,3))\n",
    "# plot autocorrelation\n",
    "acf = plot_acf(df[chosen_series].dropna(), ax=axes[0],lags=25)\n",
    "# plot partial autocorrelation\n",
    "pacf = plot_pacf(df[chosen_series].dropna(), ax=axes[1],lags=25)"
   ]
  },
  {
   "cell_type": "markdown",
   "id": "9e052864",
   "metadata": {},
   "source": [
    "Now let's make the model, let's start by splitting"
   ]
  },
  {
   "cell_type": "code",
   "execution_count": null,
   "id": "3e57c945",
   "metadata": {},
   "outputs": [],
   "source": [
    "#establish the proportion\n",
    "prop = chosen_proportion\n",
    "#get the series\n",
    "series = df[metric]\n",
    "#create a length from the desired proportion\n",
    "size = int(round(len(series)*prop,0))\n",
    "#turn the series into a numpy array\n",
    "passenger_set = series.values\n",
    "#separate into train and test sets\n",
    "train, test = passenger_set[0:size], passenger_set[size:len(passenger_set)]"
   ]
  },
  {
   "cell_type": "markdown",
   "id": "ca01c491",
   "metadata": {},
   "source": [
    "Now for model training, look at the acf and pacf to determine the AR and MA orders, number of times you differentiated will be the order of I."
   ]
  },
  {
   "cell_type": "code",
   "execution_count": null,
   "id": "bd0d15fc",
   "metadata": {},
   "outputs": [],
   "source": [
    "#instantiate the arima model\n",
    "model_ns = ARIMA(train, order=(auto_regression_order,integration_order,moving_average_order))\n",
    "#fit the arima model\n",
    "model_fit_ns = model_ns.fit()\n",
    "#print the summary\n",
    "print(model_fit_ns.summary())"
   ]
  },
  {
   "cell_type": "markdown",
   "id": "5c382208",
   "metadata": {},
   "source": [
    "Now let's evaluate"
   ]
  },
  {
   "cell_type": "code",
   "execution_count": null,
   "id": "89667f8b",
   "metadata": {},
   "outputs": [],
   "source": [
    "#forecast the series the same length of the test set\n",
    "forecasts_ns = model_fit_ns.forecast(len(test))\n",
    "#compare with the testing set\n",
    "mean_squared_error(forecasts_ns, test)"
   ]
  },
  {
   "cell_type": "markdown",
   "id": "22bb2d3a",
   "metadata": {},
   "source": [
    "Now let's see how our forecast works"
   ]
  },
  {
   "cell_type": "code",
   "execution_count": null,
   "id": "4fdf059c",
   "metadata": {},
   "outputs": [],
   "source": [
    "def forecast_df(forecasts):\n",
    "    #change to dataframe\n",
    "    f_df = pd.DataFrame(forecasts)\n",
    "    #get the proper index\n",
    "    f_df['index'] = df.index[-len(test):]\n",
    "    #set the index\n",
    "    f_df.set_index('index',inplace=True)\n",
    "    #return the df\n",
    "    return f_df"
   ]
  },
  {
   "cell_type": "markdown",
   "id": "f9e135c9",
   "metadata": {},
   "source": [
    "Create your forecast dataframe"
   ]
  },
  {
   "cell_type": "code",
   "execution_count": null,
   "id": "17abed02",
   "metadata": {},
   "outputs": [],
   "source": [
    "#create the forecast df\n",
    "f_ns = forecast_df(forecasts_ns)"
   ]
  },
  {
   "cell_type": "markdown",
   "id": "82bee0d5",
   "metadata": {},
   "source": [
    "Plot the forecasts"
   ]
  },
  {
   "cell_type": "code",
   "execution_count": null,
   "id": "cfbbcf66",
   "metadata": {},
   "outputs": [],
   "source": [
    "#empty plot\n",
    "fig,ax = plt.subplots()\n",
    "#plot the entire series\n",
    "series.plot(kind='line',ax=ax)\n",
    "#plot the forecasts\n",
    "f_ns.plot(kind='line',ax=ax)"
   ]
  },
  {
   "cell_type": "markdown",
   "id": "16abb2ca",
   "metadata": {},
   "source": [
    "Now let's take a look at our diagnostics"
   ]
  },
  {
   "cell_type": "code",
   "execution_count": null,
   "id": "983d8f91",
   "metadata": {},
   "outputs": [],
   "source": [
    "#get the time series diagnostics plot\n",
    "diag_ns = model_fit_ns.plot_diagnostics(figsize=(15, 12))\n",
    "plt.show()"
   ]
  },
  {
   "cell_type": "markdown",
   "id": "c111627b",
   "metadata": {},
   "source": [
    "Let's repeat the same process with the SARIMA model"
   ]
  },
  {
   "cell_type": "code",
   "execution_count": null,
   "id": "1e60cb0f",
   "metadata": {},
   "outputs": [],
   "source": [
    "#Instantiate the SARIMAX model\n",
    "model_s = SARIMAX(train, order=(auto_regression_order,integration_order,moving_average_order), \n",
    "                  seasonal_order=(seasonal_ar, season_int, seasonal_ma,period))\n",
    "\n",
    "#fit the sarima model\n",
    "model_fit_s = model_s.fit()\n",
    "\n",
    "#forecast the series the same length of the test set\n",
    "forecasts_s = model_fit_s.forecast(steps=len(test))\n",
    "\n",
    "#print the summary\n",
    "model_fit_s.summary()"
   ]
  },
  {
   "cell_type": "markdown",
   "id": "1b11b8f4",
   "metadata": {},
   "source": [
    "Evaluate"
   ]
  },
  {
   "cell_type": "code",
   "execution_count": null,
   "id": "c0d90dbd",
   "metadata": {},
   "outputs": [],
   "source": [
    "#forecast using the sarima model\n",
    "forecasts_s = model_fit_s.forecast(len(test))\n",
    "#find the mean squared error to evaluate the model\n",
    "mean_squared_error(forecasts_s, test)"
   ]
  },
  {
   "cell_type": "markdown",
   "id": "d54d73c2",
   "metadata": {},
   "source": [
    "Plot results"
   ]
  },
  {
   "cell_type": "code",
   "execution_count": null,
   "id": "1423af49",
   "metadata": {},
   "outputs": [],
   "source": [
    "#empty plot\n",
    "fig,ax = plt.subplots()\n",
    "#plot the whole time series\n",
    "series.plot(kind='line',ax=ax)\n",
    "#plot the seasonality forecasting results\n",
    "f_s.plot(kind='line',ax=ax)"
   ]
  },
  {
   "cell_type": "code",
   "execution_count": null,
   "id": "38fbb3aa",
   "metadata": {},
   "outputs": [],
   "source": [
    "#plot the sarima diagnostic plot\n",
    "diag_s = model_fit_s.plot_diagnostics(figsize=(15, 12))\n",
    "plt.show()"
   ]
  },
  {
   "cell_type": "markdown",
   "id": "148c6c83",
   "metadata": {},
   "source": [
    "Now try out an auto arima model"
   ]
  },
  {
   "cell_type": "code",
   "execution_count": null,
   "id": "4f9fe911",
   "metadata": {},
   "outputs": [],
   "source": [
    "def forecast_frame(forecasts):\n",
    "    #convert to the pandas dataframe\n",
    "    f_df = pd.DataFrame(forecasts)\n",
    "    #get the index for the forecasts\n",
    "    f_df.index = df.index[-len(test):]\n",
    "    #return the dataframe\n",
    "    return f_df"
   ]
  },
  {
   "cell_type": "markdown",
   "id": "e199c398",
   "metadata": {},
   "source": [
    "Try toggling the seasonal on and off, change the seasonal periods in accordance to the ACF plot and seasonality analysis"
   ]
  },
  {
   "cell_type": "code",
   "execution_count": null,
   "id": "83d3b8c4",
   "metadata": {},
   "outputs": [],
   "source": [
    "#fit the auto arima model\n",
    "auto_arima = pm.auto_arima(train, error_action='ignore', trace=True,\n",
    "                      suppress_warnings=True, maxiter=5,\n",
    "                      seasonal=False,m = seasonal_period)"
   ]
  },
  {
   "cell_type": "markdown",
   "id": "fde68162",
   "metadata": {},
   "source": [
    "Evaluation"
   ]
  },
  {
   "cell_type": "code",
   "execution_count": null,
   "id": "005d7694",
   "metadata": {},
   "outputs": [],
   "source": [
    "#create forecasts\n",
    "forecasts = auto_arima.predict(len(test))\n",
    "#evaluate\n",
    "mean_squared_error(forecasts, test)"
   ]
  },
  {
   "cell_type": "markdown",
   "id": "8c8cccaa",
   "metadata": {},
   "source": [
    "Forecast and plot the results"
   ]
  },
  {
   "cell_type": "code",
   "execution_count": null,
   "id": "22f390fb",
   "metadata": {},
   "outputs": [],
   "source": [
    "#create forecast df\n",
    "forecasts_df = forecast_frame(forecasts)"
   ]
  },
  {
   "cell_type": "code",
   "execution_count": null,
   "id": "d25323a7",
   "metadata": {},
   "outputs": [],
   "source": [
    "#empty plot\n",
    "fig,ax = plt.subplots()\n",
    "#plot series\n",
    "series.plot(kind='line',ax=ax)\n",
    "#plot forecast\n",
    "forecasts_df.plot(kind='line',ax=ax)"
   ]
  }
 ],
 "metadata": {
  "kernelspec": {
   "display_name": "Python 3 (ipykernel)",
   "language": "python",
   "name": "python3"
  },
  "language_info": {
   "codemirror_mode": {
    "name": "ipython",
    "version": 3
   },
   "file_extension": ".py",
   "mimetype": "text/x-python",
   "name": "python",
   "nbconvert_exporter": "python",
   "pygments_lexer": "ipython3",
   "version": "3.8.13"
  }
 },
 "nbformat": 4,
 "nbformat_minor": 5
}
